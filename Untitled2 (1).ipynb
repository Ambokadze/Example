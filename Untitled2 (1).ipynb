{
 "cells": [
  {
   "cell_type": "markdown",
   "metadata": {},
   "source": [
    "# Applied Data Science Capstone Project"
   ]
  },
  {
   "cell_type": "markdown",
   "metadata": {},
   "source": [
    "### Sections\n",
    "#### 1.) Introduction\n",
    "#### 2.) Data Description\n",
    "#### 3.) Methodology\n",
    "#### 4.) Results\n",
    "#### 5.) Discussion\n",
    "#### 6.) Conclusion"
   ]
  },
  {
   "cell_type": "markdown",
   "metadata": {},
   "source": [
    "### Introduction"
   ]
  },
  {
   "cell_type": "markdown",
   "metadata": {},
   "source": [
    "This project aims to identify the most popular restaurant types in Toronto, explore similarities and differences in the taste. I will explore and analyze data provided by the Foursquare to uncover hidden patterns of the data and answer a few questions regarding this project: Which cuisine is most popular in Toronto? What is the best type of restaurant to open in this city?"
   ]
  },
  {
   "cell_type": "markdown",
   "metadata": {},
   "source": [
    "### Data Description"
   ]
  },
  {
   "cell_type": "markdown",
   "metadata": {},
   "source": [
    "Data set for Torront is collected from diffrent sources and has the following features:\n",
    "\n",
    "Postal Code\n",
    "Borough\n",
    "Neighborhood\n",
    "Latitude\n",
    "Longitude\n",
    "\n",
    "Other data will be retrived using Foursquare API."
   ]
  },
  {
   "cell_type": "markdown",
   "metadata": {},
   "source": [
    "### Methodology"
   ]
  },
  {
   "cell_type": "markdown",
   "metadata": {},
   "source": [
    "K-means clustering will the main method used for building machine learning model in this project. Also different data manipulations will be using numpy and pandas libraries, before applying the machine learning model.\n",
    "\n",
    "A few simple visualizations are made in order to get a better understanding of the data. Folium is used for this purpose. Folium generates interactive and beautiful maps, using the Latitude and Longitude we provide. The folium visualizations will be made available in the comments section.\n",
    "Further to enhance the understanding of the data, count plots are used to better understand the final result."
   ]
  },
  {
   "cell_type": "markdown",
   "metadata": {},
   "source": [
    "### Results \n",
    "\n",
    "\n",
    "Results show that most popular restaurants in Torront are the ones which doesn't specialize on specific cuisine, but a we see Vietnamise Restaurants are also very polupular, as a second most popular restaurant, the Greek restaraunt takes the lead.\n"
   ]
  },
  {
   "cell_type": "markdown",
   "metadata": {},
   "source": [
    "### Discusions\n"
   ]
  },
  {
   "cell_type": "markdown",
   "metadata": {},
   "source": [
    "As longs as it is a beginners project, we can't say that's it's reliable. The data is not perfect and the leaking of machine learning algorithms also makes it hard to get good results which will work in real life. Nonetheless, it can give some entry point information to a person who is interested in starting a restaurant business."
   ]
  },
  {
   "cell_type": "markdown",
   "metadata": {},
   "source": [
    "### Conclusion"
   ]
  },
  {
   "cell_type": "markdown",
   "metadata": {},
   "source": [
    "This project gives an overview of restaurant businesses in Toronto, analyzing the popularity of different types of restaurants by neighborhoods. We can easily extend this notebook and include the data related to other types of local businesses, not only restaurants and food services."
   ]
  }
 ],
 "metadata": {
  "kernelspec": {
   "display_name": "Python 3",
   "language": "python",
   "name": "python3"
  },
  "language_info": {
   "codemirror_mode": {
    "name": "ipython",
    "version": 3
   },
   "file_extension": ".py",
   "mimetype": "text/x-python",
   "name": "python",
   "nbconvert_exporter": "python",
   "pygments_lexer": "ipython3",
   "version": "3.7.3"
  }
 },
 "nbformat": 4,
 "nbformat_minor": 2
}
